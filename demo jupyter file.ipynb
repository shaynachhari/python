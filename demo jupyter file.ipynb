{
 "cells": [
  {
   "cell_type": "code",
   "execution_count": 1,
   "id": "85034114",
   "metadata": {},
   "outputs": [
    {
     "name": "stdout",
     "output_type": "stream",
     "text": [
      "Shayna\n"
     ]
    }
   ],
   "source": [
    "print(\"Shayna\")"
   ]
  },
  {
   "cell_type": "code",
   "execution_count": 2,
   "id": "13862079",
   "metadata": {},
   "outputs": [
    {
     "name": "stdout",
     "output_type": "stream",
     "text": [
      "chhari\n"
     ]
    }
   ],
   "source": [
    "print(\"chhari\")"
   ]
  },
  {
   "cell_type": "code",
   "execution_count": 3,
   "id": "5c934ae8",
   "metadata": {},
   "outputs": [
    {
     "name": "stdout",
     "output_type": "stream",
     "text": [
      "NS\n"
     ]
    }
   ],
   "source": [
    "\n",
    "print(\"NS\")"
   ]
  }
 ],
 "metadata": {
  "kernelspec": {
   "display_name": "Python 3 (ipykernel)",
   "language": "python",
   "name": "python3"
  },
  "language_info": {
   "codemirror_mode": {
    "name": "ipython",
    "version": 3
   },
   "file_extension": ".py",
   "mimetype": "text/x-python",
   "name": "python",
   "nbconvert_exporter": "python",
   "pygments_lexer": "ipython3",
   "version": "3.8.8"
  }
 },
 "nbformat": 4,
 "nbformat_minor": 5
}
